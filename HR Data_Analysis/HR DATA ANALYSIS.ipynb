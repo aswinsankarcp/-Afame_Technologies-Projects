{
 "cells": [
  {
   "cell_type": "code",
   "execution_count": 1,
   "id": "200fd9c2",
   "metadata": {},
   "outputs": [],
   "source": [
    "import pandas as pd"
   ]
  },
  {
   "cell_type": "markdown",
   "id": "c0162a93",
   "metadata": {},
   "source": [
    "# Load the dataset"
   ]
  },
  {
   "cell_type": "code",
   "execution_count": 12,
   "id": "26fb80d9",
   "metadata": {},
   "outputs": [],
   "source": [
    "df = pd.read_csv('HR Data.csv')"
   ]
  },
  {
   "cell_type": "code",
   "execution_count": 3,
   "id": "f8c56299",
   "metadata": {},
   "outputs": [
    {
     "name": "stdout",
     "output_type": "stream",
     "text": [
      "Index(['Age', 'Attrition', 'BusinessTravel', 'DailyRate', 'Department',\n",
      "       'DistanceFromHome', 'Education', 'EducationField', 'EmployeeCount',\n",
      "       'EmployeeNumber', 'EnvironmentSatisfaction', 'Gender', 'HourlyRate',\n",
      "       'JobInvolvement', 'JobLevel', 'JobRole', 'JobSatisfaction',\n",
      "       'MaritalStatus', 'MonthlyIncome', 'MonthlyRate', 'NumCompaniesWorked',\n",
      "       'Over18', 'OverTime', 'PercentSalaryHike', 'PerformanceRating',\n",
      "       'RelationshipSatisfaction', 'StandardHours', 'StockOptionLevel',\n",
      "       'TotalWorkingYears', 'TrainingTimesLastYear', 'WorkLifeBalance',\n",
      "       'YearsAtCompany', 'YearsInCurrentRole', 'YearsSinceLastPromotion',\n",
      "       'YearsWithCurrManager'],\n",
      "      dtype='object')\n"
     ]
    }
   ],
   "source": [
    "print(df.columns)"
   ]
  },
  {
   "cell_type": "code",
   "execution_count": 13,
   "id": "08e6eb17",
   "metadata": {},
   "outputs": [
    {
     "name": "stdout",
     "output_type": "stream",
     "text": [
      "   Age Attrition     BusinessTravel  DailyRate              Department  \\\n",
      "0   41       Yes      Travel_Rarely       1102                   Sales   \n",
      "1   49        No  Travel_Frequently        279  Research & Development   \n",
      "2   37       Yes      Travel_Rarely       1373  Research & Development   \n",
      "3   33        No  Travel_Frequently       1392  Research & Development   \n",
      "4   27        No      Travel_Rarely        591  Research & Development   \n",
      "\n",
      "   DistanceFromHome  Education EducationField  EmployeeCount  EmployeeNumber  \\\n",
      "0                 1          2  Life Sciences              1               1   \n",
      "1                 8          1  Life Sciences              1               2   \n",
      "2                 2          2          Other              1               4   \n",
      "3                 3          4  Life Sciences              1               5   \n",
      "4                 2          1        Medical              1               7   \n",
      "\n",
      "   ...  RelationshipSatisfaction StandardHours  StockOptionLevel  \\\n",
      "0  ...                         1            80                 0   \n",
      "1  ...                         4            80                 1   \n",
      "2  ...                         2            80                 0   \n",
      "3  ...                         3            80                 0   \n",
      "4  ...                         4            80                 1   \n",
      "\n",
      "   TotalWorkingYears  TrainingTimesLastYear WorkLifeBalance  YearsAtCompany  \\\n",
      "0                  8                      0               1               6   \n",
      "1                 10                      3               3              10   \n",
      "2                  7                      3               3               0   \n",
      "3                  8                      3               3               8   \n",
      "4                  6                      3               3               2   \n",
      "\n",
      "  YearsInCurrentRole  YearsSinceLastPromotion  YearsWithCurrManager  \n",
      "0                  4                        0                     5  \n",
      "1                  7                        1                     7  \n",
      "2                  0                        0                     0  \n",
      "3                  7                        3                     0  \n",
      "4                  2                        2                     2  \n",
      "\n",
      "[5 rows x 35 columns]\n"
     ]
    }
   ],
   "source": [
    "print(df.head())"
   ]
  },
  {
   "cell_type": "markdown",
   "id": "aa371151",
   "metadata": {},
   "source": [
    "# Data cleansing and Remove unnecessary columns"
   ]
  },
  {
   "cell_type": "code",
   "execution_count": 4,
   "id": "dfe092ab",
   "metadata": {},
   "outputs": [],
   "source": [
    "columns_to_remove = ['EmployeeCount', 'EmployeeNumber', 'Over18', 'StandardHours']\n",
    "df = df.drop(columns=columns_to_remove)"
   ]
  },
  {
   "cell_type": "markdown",
   "id": "6f3b1888",
   "metadata": {},
   "source": [
    "# Rename columns"
   ]
  },
  {
   "cell_type": "code",
   "execution_count": 5,
   "id": "7a3b44d6",
   "metadata": {},
   "outputs": [],
   "source": [
    "# Rename specific columns\n",
    "column_name_mapping = {\n",
    "    'BusinessTravel': 'Business_Travel',\n",
    "    'DailyRate': 'Daily_Rate',\n",
    "    'DistanceFromHome': 'Distance_From_Home',\n",
    "    'EducationField': 'Education_Field',\n",
    "    'EnvironmentSatisfaction': 'Environment_Satisfaction',\n",
    "    'HourlyRate': 'Hourly_Rate',\n",
    "    'JobInvolvement': 'Job_Involvement',\n",
    "    'JobLevel': 'Job_Level',\n",
    "    'JobRole': 'Job_Role',\n",
    "    'JobSatisfaction': 'Job_Satisfaction',\n",
    "    'MaritalStatus': 'Marital_Status',\n",
    "    'MonthlyIncome': 'Monthly_Income',\n",
    "    'MonthlyRate': 'Monthly_Rate',\n",
    "    'NumCompaniesWorked': 'Num_Companies_Worked',\n",
    "    'OverTime': 'Over_Time',\n",
    "    'PercentSalaryHike': 'Percent_Salary_Hike',\n",
    "    'PerformanceRating': 'Performance_Rating',\n",
    "    'RelationshipSatisfaction': 'Relationship_Satisfaction',\n",
    "    'StockOptionLevel': 'Stock_Option_Level',\n",
    "    'TotalWorkingYears': 'Total_Working_Years',\n",
    "    'TrainingTimesLastYear': 'Training_Times_Last_Year',\n",
    "    'WorkLifeBalance': 'Work_Life_Balance',\n",
    "    'YearsAtCompany': 'Years_At_Company',\n",
    "    'YearsInCurrentRole': 'Years_In_Current_Role',\n",
    "    'YearsSinceLastPromotion': 'Years_Since_Last_Promotion',\n",
    "    'YearsWithCurrManager': 'Years_With_Curr_Manager'\n",
    "}\n",
    "df = df.rename(columns=column_name_mapping)"
   ]
  },
  {
   "cell_type": "markdown",
   "id": "a6861f55",
   "metadata": {},
   "source": [
    "# Eliminate redundant entries"
   ]
  },
  {
   "cell_type": "code",
   "execution_count": 6,
   "id": "dc29634f",
   "metadata": {},
   "outputs": [],
   "source": [
    "df = df.drop_duplicates()"
   ]
  },
  {
   "cell_type": "code",
   "execution_count": 7,
   "id": "9c4ea75d",
   "metadata": {},
   "outputs": [],
   "source": [
    "df['Attrition'] = df['Attrition'].map({'Yes': 'Yes', 'No': 'No'})"
   ]
  },
  {
   "cell_type": "markdown",
   "id": "ec101def",
   "metadata": {},
   "source": [
    "# Eliminate NaN values"
   ]
  },
  {
   "cell_type": "code",
   "execution_count": 8,
   "id": "a75e470c",
   "metadata": {},
   "outputs": [],
   "source": [
    "df = df.dropna()"
   ]
  },
  {
   "cell_type": "markdown",
   "id": "22ad9c81",
   "metadata": {},
   "source": [
    "# convert categorical variables into numerical ones using one-hot encoding\n"
   ]
  },
  {
   "cell_type": "code",
   "execution_count": 9,
   "id": "91a37dd3",
   "metadata": {},
   "outputs": [],
   "source": [
    "df = pd.get_dummies(df, columns=['Business_Travel', 'Department', 'Gender', 'Job_Role', 'Marital_Status', 'Over_Time'])"
   ]
  },
  {
   "cell_type": "markdown",
   "id": "a16088b5",
   "metadata": {},
   "source": [
    "# Save the cleaned dataset"
   ]
  },
  {
   "cell_type": "code",
   "execution_count": 10,
   "id": "2e500314",
   "metadata": {},
   "outputs": [],
   "source": [
    "df.to_csv('Cleaned_HR_Data.csv', index=False)"
   ]
  },
  {
   "cell_type": "code",
   "execution_count": 11,
   "id": "075d4a8a",
   "metadata": {},
   "outputs": [],
   "source": [
    "df = pd.read_csv('Cleaned_HR_Data.csv')"
   ]
  },
  {
   "cell_type": "code",
   "execution_count": null,
   "id": "7a6bbfb9",
   "metadata": {},
   "outputs": [],
   "source": []
  }
 ],
 "metadata": {
  "kernelspec": {
   "display_name": "Python 3 (ipykernel)",
   "language": "python",
   "name": "python3"
  },
  "language_info": {
   "codemirror_mode": {
    "name": "ipython",
    "version": 3
   },
   "file_extension": ".py",
   "mimetype": "text/x-python",
   "name": "python",
   "nbconvert_exporter": "python",
   "pygments_lexer": "ipython3",
   "version": "3.11.7"
  }
 },
 "nbformat": 4,
 "nbformat_minor": 5
}
